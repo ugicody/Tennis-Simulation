{
 "cells": [
  {
   "cell_type": "code",
   "execution_count": 1,
   "id": "98c47c7f",
   "metadata": {},
   "outputs": [],
   "source": [
    "import pandas as pd\n",
    "import numpy as np"
   ]
  },
  {
   "cell_type": "code",
   "execution_count": 2,
   "id": "1ce66934",
   "metadata": {},
   "outputs": [],
   "source": [
    "shot_probs_player_one = pd.read_csv('shot_probs_djokovic.csv')\n",
    "sequence_probs_player_one = pd.read_csv('sequence_probs_djokovic.csv')\n",
    "return_probs_player_one = pd.read_csv('return_probs_djokovic.csv')\n",
    "return_sequence_player_one = pd.read_csv('return_sequence_prob_djokovic.csv')\n",
    "first_serve_probabilities_player_one = pd.read_csv('first_serve_probabilities_novak.csv')\n",
    "second_serve_probabilities_player_one = pd.read_csv('second_serve_probabilities_novak.csv')\n",
    "\n",
    "shot_probs_player_two = pd.read_csv('shot_probs_sinner.csv')\n",
    "sequence_probs_player_two = pd.read_csv('sequence_probs_sinner.csv')\n",
    "return_probs_player_two = pd.read_csv('return_probs_sinner.csv')\n",
    "return_sequence_prob_player_two = pd.read_csv('return_sequence_prob_sinner.csv')\n",
    "first_serve_probabilities_player_two= pd.read_csv('first_serve_probabilities_sinner.csv')\n",
    "second_serve_probabilities_player_two= pd.read_csv('second_serve_probabilities_sinner.csv')"
   ]
  },
  {
   "cell_type": "code",
   "execution_count": 3,
   "id": "32a11638",
   "metadata": {},
   "outputs": [],
   "source": [
    "sequence_probs_player_one = sequence_probs_player_one[~sequence_probs_player_one['shot_sequence'].str.endswith(('@', '#', '*'))]\n",
    "sequence_probs_player_two = sequence_probs_player_two[~sequence_probs_player_two['shot_sequence'].str.endswith(('@', '#', '*'))]"
   ]
  },
  {
   "cell_type": "code",
   "execution_count": 49,
   "id": "d523d2f4",
   "metadata": {},
   "outputs": [],
   "source": [
    "precedent_shots_set = set(shot_probs_player_one['precedent_shot'].unique())\n",
    "sequence_probs_player_two = sequence_probs_player_two[sequence_probs_player_two['shot_sequence'].apply(lambda x: x in precedent_shots_set)]\n",
    "\n",
    "precedent_shots_set = set(shot_probs_player_two['precedent_shot'].unique())\n",
    "sequence_probs_player_one = sequence_probs_player_one[sequence_probs_player_one['shot_sequence'].apply(lambda x: x in precedent_shots_set)]\n"
   ]
  },
  {
   "cell_type": "code",
   "execution_count": 50,
   "id": "25c00d6c",
   "metadata": {},
   "outputs": [],
   "source": [
    "def simulate_first_serve(player_serve_probs):\n",
    "    \n",
    "    service_types = player_serve_probs['serve_type'].tolist()\n",
    "    service_probabilities = player_serve_probs['serve_type_probability'].tolist()\n",
    "    service_probabilities = [float(i)/sum(service_probabilities) for i in service_probabilities]\n",
    "    service_type = np.random.choice(service_types, p= service_probabilities)\n",
    "    \n",
    "    outcomes = ['ace_or_forcing_error', 'fault', 'in_game']\n",
    "    outcome_probs = []\n",
    "    for outcome in outcomes:\n",
    "        outcome_probs.append(player_serve_probs[player_serve_probs['serve_type'] == service_type][outcome].iloc[0])\n",
    "    serve_outcome = np.random.choice(outcomes, p= outcome_probs)\n",
    "    \n",
    "    return service_type, serve_outcome"
   ]
  },
  {
   "cell_type": "code",
   "execution_count": 51,
   "id": "88694389",
   "metadata": {},
   "outputs": [],
   "source": [
    "def simulate_second_serve(player_serve_probs):\n",
    "    \n",
    "    service_types = player_serve_probs['serve_type'].tolist()\n",
    "    service_probabilities = player_serve_probs['serve_type_probability'].tolist()\n",
    "    service_probabilities = [float(i)/sum(service_probabilities) for i in service_probabilities]\n",
    "    service_type = np.random.choice(service_types, p= service_probabilities)\n",
    "    \n",
    "    outcomes = ['ace_or_forcing_error', 'fault', 'in_game']\n",
    "    outcome_probs = []\n",
    "    for outcome in outcomes:\n",
    "        outcome_probs.append(player_serve_probs[player_serve_probs['serve_type'] == service_type][outcome].iloc[0])\n",
    "    serve_outcome = np.random.choice(outcomes, p= outcome_probs)\n",
    "    \n",
    "    return service_type, serve_outcome"
   ]
  },
  {
   "cell_type": "code",
   "execution_count": 52,
   "id": "18affa79",
   "metadata": {
    "scrolled": true
   },
   "outputs": [],
   "source": [
    "def simulate_return(player_return_probs, player_return_sequence, serve):\n",
    "    filtered_probs = player_return_probs[player_return_probs['preceding_serve'] == serve]\n",
    "    shot_types = filtered_probs['shot_type'].tolist()\n",
    "    happening_probabilities = filtered_probs['happening_probability'].tolist()\n",
    "    return_type = np.random.choice(shot_types, p= happening_probabilities)\n",
    "    \n",
    "    outcomes = ['point_winner_prob', 'unforced_error_prob', 'in_play_prob']\n",
    "    outcome_probs = []\n",
    "    for outcome in outcomes:\n",
    "        outcome_probs.append(filtered_probs[filtered_probs['shot_type'] == return_type][outcome].iloc[0])\n",
    "    return_outcome = np.random.choice(outcomes, p= outcome_probs)\n",
    "    \n",
    "    if return_outcome == 'point_winner_prob' or return_outcome == 'unforced_error_prob':\n",
    "        return_sequence = return_type\n",
    "    else:\n",
    "        filtered_return_sequence = player_return_sequence[player_return_sequence['shot_type'] == return_type]\n",
    "        sequences =  filtered_return_sequence['return_shot_sequence'].tolist()\n",
    "        sequence_probabilities = filtered_return_sequence['probability'].tolist()\n",
    "        return_sequence = np.random.choice(sequences, p= sequence_probabilities)\n",
    "        \n",
    "    return return_sequence, return_outcome"
   ]
  },
  {
   "cell_type": "code",
   "execution_count": 170,
   "id": "27558cd1",
   "metadata": {},
   "outputs": [],
   "source": [
    "def simulate_shot(precedent_shot, shot_probs, sequence_probs):\n",
    "    filtered_probs = shot_probs[shot_probs['precedent_shot'] == precedent_shot]\n",
    "    \n",
    "    # Extract shot types and their happening probabilities\n",
    "    shot_types = filtered_probs['shot_type'].tolist()\n",
    "    happening_probabilities = filtered_probs['happening_probability'].tolist()\n",
    "    \n",
    "    # Check if there are shot types available for the precedent shot\n",
    "    if shot_types:\n",
    "        # Normalize happening_probabilities to ensure they sum to 1\n",
    "        happening_probabilities_normalized = [float(i)/sum(happening_probabilities) for i in happening_probabilities]\n",
    "        selected_shot_type = np.random.choice(shot_types, p=happening_probabilities_normalized)\n",
    "        \n",
    "        # Further processing to determine the outcome and next shot...\n",
    "        outcome_probabilities = filtered_probs[['point_winner', 'unforced_error', 'in_play']].iloc[0].tolist()\n",
    "        outcomes = ['point_winner', 'unforced_error', 'in_play']\n",
    "        outcome_probabilities_normalized = [float(i)/sum(outcome_probabilities) for i in outcome_probabilities]\n",
    "        selected_outcome = np.random.choice(outcomes, p=outcome_probabilities_normalized)\n",
    "        \n",
    "        if selected_outcome == 'in_play':\n",
    "            filtered_sequence = sequence_probs[sequence_probs['shot_type'] == selected_shot_type]\n",
    "            sequence_types = filtered_sequence['shot_sequence'].tolist()\n",
    "            sequence_probabilities = filtered_sequence['probability'].tolist()\n",
    "            sequence_probabilities_normalized = [float(i)/sum(sequence_probabilities) for i in sequence_probabilities]\n",
    "            sequence_outcome = np.random.choice(sequence_types, p=sequence_probabilities_normalized)\n",
    "        else:\n",
    "            sequence_outcome = 'no_sequence'\n",
    "    else:\n",
    "        # Handle the case where no matching shot types are found\n",
    "        selected_shot_type = 'no_shot'\n",
    "        selected_outcome = 'no_outcome'\n",
    "        sequence_outcome = 'no_sequence'\n",
    "    \n",
    "    return selected_outcome, sequence_outcome, selected_shot_type\n",
    "\n",
    "        \n",
    "        \n",
    "    \n"
   ]
  },
  {
   "cell_type": "code",
   "execution_count": 169,
   "id": "2150df2b",
   "metadata": {},
   "outputs": [],
   "source": [
    "def simulate_point(serve_probs, second_serve_probs, return_probs, return_sequence_probs, shot_probs_player1, sequence_probs_player1, shot_probs_player2, sequence_probs_player2):\n",
    "    # Player One serves\n",
    "    serve_type, serve_outcome = simulate_first_serve(serve_probs)\n",
    "    rally_shot_count = 1\n",
    "    if serve_outcome == 'fault':\n",
    "        # Simulate second serve if the first serve was a fault\n",
    "        serve_type, serve_outcome = simulate_second_serve(second_serve_probs)\n",
    "        \n",
    "        # If second serve also results in fault, Player Two wins the point\n",
    "        if serve_outcome == 'fault':\n",
    "            return 'returner', rally_shot_count\n",
    "\n",
    "    if serve_outcome == 'ace_or_forcing_error':\n",
    "        # Player One wins the point directly from the serve\n",
    "        return 'server', rally_shot_count\n",
    "    \n",
    "    return_sequence, return_outcome = simulate_return(return_probs, return_sequence_probs, serve_type)\n",
    "    \n",
    "    if return_outcome == 'point_winner_prob':\n",
    "        rally_shot_count += 1\n",
    "        return 'returner', rally_shot_count\n",
    "    elif return_outcome == 'unforced_error_prob':\n",
    "        rally_shot_count += 1\n",
    "        return 'server', rally_shot_count\n",
    "    \n",
    "    rally_shot_count = 3\n",
    "    current_shot = return_sequence\n",
    "    \n",
    "    while True:\n",
    "        player_shot_probs = shot_probs_player1 if rally_shot_count % 2 == 1 else shot_probs_player2\n",
    "        player_sequence_probs = sequence_probs_player1 if rally_shot_count % 2 == 1 else sequence_probs_player2\n",
    "        \n",
    "        outcome, next_shot, shot_type = simulate_shot(current_shot, player_shot_probs, player_sequence_probs)\n",
    "\n",
    "        if shot_type == 'no_shot':\n",
    "\n",
    "            winner = 'server' if rally_shot_count % 2 == 0 else 'returner'  \n",
    "            return winner, rally_shot_count\n",
    "\n",
    "        if outcome == 'point_winner':\n",
    "            winner = 'server' if rally_shot_count % 2 == 1 else 'returner'\n",
    "            return winner, rally_shot_count\n",
    "        elif outcome == 'unforced_error':\n",
    "            winner = 'returner' if rally_shot_count % 2 == 1 else 'server'\n",
    "            return winner, rally_shot_count\n",
    "\n",
    "        current_shot = next_shot\n",
    "        rally_shot_count += 1\n",
    "\n"
   ]
  },
  {
   "cell_type": "code",
   "execution_count": 205,
   "id": "e368e699",
   "metadata": {},
   "outputs": [
    {
     "name": "stdout",
     "output_type": "stream",
     "text": [
      "38.6\n",
      "5.189\n"
     ]
    }
   ],
   "source": [
    "server=0\n",
    "returner=0\n",
    "total_count = 0\n",
    "for i in range(1000):\n",
    "    outcome, count = simulate_point(first_serve_probabilities_player_two, second_serve_probabilities_player_two, return_probs_player_one, return_sequence_player_one, shot_probs_player_two, sequence_probs_player_two, shot_probs_player_one, sequence_probs_player_one)\n",
    "    total_count += count\n",
    "    if outcome == 'server':\n",
    "        server +=1\n",
    "    elif outcome == 'returner':\n",
    "        returner +=1\n",
    "    else:\n",
    "        print('error')\n",
    "print(server/(server + returner)*100)\n",
    "print(total_count/1000)      \n"
   ]
  }
 ],
 "metadata": {
  "kernelspec": {
   "display_name": "Python 3 (ipykernel)",
   "language": "python",
   "name": "python3"
  },
  "language_info": {
   "codemirror_mode": {
    "name": "ipython",
    "version": 3
   },
   "file_extension": ".py",
   "mimetype": "text/x-python",
   "name": "python",
   "nbconvert_exporter": "python",
   "pygments_lexer": "ipython3",
   "version": "3.9.13"
  }
 },
 "nbformat": 4,
 "nbformat_minor": 5
}
